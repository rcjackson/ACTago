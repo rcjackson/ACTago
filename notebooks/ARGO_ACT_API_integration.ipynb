{
 "cells": [
  {
   "cell_type": "markdown",
   "id": "b0420b51-f6b0-43cf-8a41-ff1a5e65656a",
   "metadata": {},
   "source": [
    "## Ask Argo a question about an ARM datastream"
   ]
  },
  {
   "cell_type": "code",
   "execution_count": 69,
   "id": "d911c8f2-73c5-43b1-9884-d94c924de7c5",
   "metadata": {},
   "outputs": [],
   "source": [
    "import xarray\n",
    "import requests\n",
    "import json\n",
    "import urllib\n",
    "import io\n",
    "import ipywidgets as widgets\n",
    "from IPython.display import display\n",
    "from IPython.display import Markdown, display"
   ]
  },
  {
   "cell_type": "code",
   "execution_count": 81,
   "id": "d6533a16-e78b-4937-a206-d02218ed2e2a",
   "metadata": {},
   "outputs": [],
   "source": [
    "def ask_question_about_arm_datastream(datastream, prompt, username=\"\", model=\"gpt4o\", temperature=0.1, top_p=0.9):\n",
    "    data = {}\n",
    "    data[\"user\"] = username\n",
    "    data[\"model\"] = model\n",
    "    data[\"stop\"] = []\n",
    "    msg_dict = []\n",
    "    \n",
    "    data[\"messages\"] = []\n",
    "    # Set base url to get DOD information\n",
    "    argo_url = \"https://apps-dev.inside.anl.gov/argoapi/api/v1/resource/chat/\"\n",
    "    base_url = 'https://pcm.arm.gov/pcm/api/dods/'\n",
    "    # Get data from DOD api\n",
    "    with urllib.request.urlopen(base_url + datastream) as url:\n",
    "        header = url.read().decode()\n",
    "    \n",
    "    msg_dict.append(\n",
    "        {\"role\": \"user\",\n",
    "         \"content\": f\"This is a JSON file header containing information about the ARM datastream f{header}. \\n {data}\"\n",
    "         }) \n",
    "    msg_dict.append({\"role\": \"user\", \"content\": prompt})  \n",
    "    data[\"messages\"] = msg_dict\n",
    "    # Add a header stating that the content type is JSON\n",
    "    headers = {\"Content-Type\": \"application/json\"}\n",
    "    # Convert the dict to JSON\n",
    "    payload = json.dumps(data)\n",
    "    response = requests.post(argo_url, data=payload, headers=headers)\n",
    "    return response.json()[\"response\"]"
   ]
  },
  {
   "cell_type": "code",
   "execution_count": 90,
   "id": "8b25790a-e127-47c2-8591-598c5d14eeb8",
   "metadata": {},
   "outputs": [
    {
     "data": {
      "application/vnd.jupyter.widget-view+json": {
       "model_id": "3bf974b1887f4ded998d5393e95c3d64",
       "version_major": 2,
       "version_minor": 0
      },
      "text/plain": [
       "Text(value='vdis.b1', description='Datastream:', placeholder='Datastream')"
      ]
     },
     "metadata": {},
     "output_type": "display_data"
    }
   ],
   "source": [
    "ds_widget = widgets.Text(\n",
    "    value='',\n",
    "    placeholder='Datastream',\n",
    "    description='Datastream:',\n",
    "    disabled=False\n",
    ")\n",
    "\n",
    "display(name_widget)\n",
    "datastream = name_widget.value"
   ]
  },
  {
   "cell_type": "code",
   "execution_count": 91,
   "id": "626dfb6f-9b68-4ec5-9b49-4b525a5268ef",
   "metadata": {},
   "outputs": [
    {
     "data": {
      "application/vnd.jupyter.widget-view+json": {
       "model_id": "0b7ecd01fe384ad59f45f18f8453265e",
       "version_major": 2,
       "version_minor": 0
      },
      "text/plain": [
       "Text(value='', description='Question:', placeholder='Ask your question about this ARM datastream')"
      ]
     },
     "metadata": {},
     "output_type": "display_data"
    }
   ],
   "source": [
    "question_widget1 = widgets.Text(\n",
    "    value='',\n",
    "    placeholder='Ask your question about this ARM datastream',\n",
    "    description='Question:',\n",
    "    disabled=False\n",
    ")\n",
    "\n",
    "display(question_widget1)\n",
    "prompt = question_widget1.value"
   ]
  },
  {
   "cell_type": "code",
   "execution_count": 85,
   "id": "735c2bd7-498e-47f4-9348-908a652f70f2",
   "metadata": {},
   "outputs": [
    {
     "data": {
      "text/markdown": [
       "The measurements in this datastream are related to precipitation and atmospheric conditions and they can be useful for several applications, including:\n",
       "\n",
       "1. **Meteorological Studies:** The data provides insights into rainfall patterns, drop size distributions, and intensity, which are crucial for understanding local and regional weather phenomena.\n",
       "\n",
       "2. **Climate Research:** Long-term measurements of rain rates, drop sizes, and water content can help in studying climate change impacts, such as changes in precipitation frequency and intensity.\n",
       "\n",
       "3. **Hydrology and Water Resource Management:** Understanding rain rates and amounts helps in managing water resources, designing drainage systems, and predicting floods.\n",
       "\n",
       "4. **Agricultural Planning:** Accurate measurements of rain and water content assist farmers in planning irrigation and protecting crops during periods of excess rainfall.\n",
       "\n",
       "5. **Radar Calibration and Validation:** Data on radar reflectivity are useful for calibrating weather radar systems and validating remote sensing measurements.\n",
       "\n",
       "6. **Atmospheric Science:** Measurements of liquid water content, intercept and slope parameters contribute to understanding cloud microphysics and precipitation processes.\n",
       "\n",
       "7. **Environmental Monitoring:** Tracking changes in precipitation can assist in monitoring the environment, assessing drought conditions, and managing ecosystems.\n",
       "\n",
       "Each variable provides specific details about rainfall characteristics, including drop size distribution, total number of drops, liquid water content, rain rate and amount, which collectively contribute to a comprehensive understanding of precipitation dynamics."
      ],
      "text/plain": [
       "<IPython.core.display.Markdown object>"
      ]
     },
     "metadata": {},
     "output_type": "display_data"
    }
   ],
   "source": [
    "datastream = name_widget.value\n",
    "prompt = question_widget1.value\n",
    "response = ask_question_about_arm_datastream(datastream, prompt, username=\"rjackson\")\n",
    "display(Markdown(response))"
   ]
  },
  {
   "cell_type": "code",
   "execution_count": null,
   "id": "23f931b9-3f20-431c-8966-f7e947db3c49",
   "metadata": {},
   "outputs": [],
   "source": []
  }
 ],
 "metadata": {
  "kernelspec": {
   "display_name": "Python 3 (ipykernel)",
   "language": "python",
   "name": "python3"
  },
  "language_info": {
   "codemirror_mode": {
    "name": "ipython",
    "version": 3
   },
   "file_extension": ".py",
   "mimetype": "text/x-python",
   "name": "python",
   "nbconvert_exporter": "python",
   "pygments_lexer": "ipython3",
   "version": "3.12.4"
  }
 },
 "nbformat": 4,
 "nbformat_minor": 5
}
